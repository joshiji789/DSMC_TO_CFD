{
 "cells": [
  {
   "cell_type": "markdown",
   "id": "936ac4f4",
   "metadata": {},
   "source": [
    "### CFD To DSMC"
   ]
  },
  {
   "cell_type": "markdown",
   "id": "1cf152fa",
   "metadata": {},
   "source": [
    "Importing libraries"
   ]
  },
  {
   "cell_type": "code",
   "execution_count": 19,
   "id": "7cd637a3",
   "metadata": {},
   "outputs": [],
   "source": [
    "import numpy as np\n",
    "\n",
    "import torch\n",
    "import torch.nn as nn\n",
    "from torch import Tensor\n",
    "import torch.optim as optim\n",
    "\n",
    "import time\n",
    "import matplotlib.pyplot as plt\n",
    "\n",
    "import pandas as pd\n",
    "from sklearn.model_selection import train_test_split"
   ]
  },
  {
   "cell_type": "markdown",
   "id": "692161c6",
   "metadata": {},
   "source": [
    "Read the CFD data"
   ]
  },
  {
   "cell_type": "code",
   "execution_count": 20,
   "id": "d85850d1",
   "metadata": {},
   "outputs": [
    {
     "name": "stdout",
     "output_type": "stream",
     "text": [
      "252\n"
     ]
    }
   ],
   "source": [
    "CF=pd.read_csv(\"INPUT (CF).csv\")\n",
    "CF=np.array(CF)[:-3,:]  # 255 values\n",
    "print(CF.shape[0])"
   ]
  },
  {
   "cell_type": "markdown",
   "id": "2531b7b9",
   "metadata": {},
   "source": [
    "Read the DSMC data"
   ]
  },
  {
   "cell_type": "code",
   "execution_count": 21,
   "id": "60f1eb68",
   "metadata": {},
   "outputs": [
    {
     "name": "stdout",
     "output_type": "stream",
     "text": [
      "252\n"
     ]
    }
   ],
   "source": [
    "DSMC=pd.read_csv(\"Output (DSMC).csv\")\n",
    "DSMC=np.array(DSMC)     # 252 values\n",
    "print(DSMC.shape[0]) "
   ]
  },
  {
   "cell_type": "code",
   "execution_count": 22,
   "id": "ccc067eb",
   "metadata": {},
   "outputs": [],
   "source": [
    "X_train, X_test, Y_train,Y_test=train_test_split(CF,DSMC,test_size=0.2,random_state=42)"
   ]
  },
  {
   "cell_type": "markdown",
   "id": "49aec442",
   "metadata": {},
   "source": [
    "Feature scaling"
   ]
  },
  {
   "cell_type": "code",
   "execution_count": 23,
   "id": "d7f3f4b2",
   "metadata": {},
   "outputs": [],
   "source": [
    "#from sklearn.preprocessing import StandardScaler\n",
    "#sc=StandardScaler()\n",
    "\n",
    "#X_train=sc.fit_transform(X_train)\n",
    "#print(type(Y_train))\n",
    "\n",
    "#X_test=sc.transform(X_test)\n",
    "#print(X_test)"
   ]
  },
  {
   "cell_type": "markdown",
   "id": "73af7a4a",
   "metadata": {},
   "source": [
    "Convert numpy to Torch"
   ]
  },
  {
   "cell_type": "code",
   "execution_count": 24,
   "id": "352e55b0",
   "metadata": {},
   "outputs": [],
   "source": [
    "# PyTorch takes Tensor data so convert the data to Tensor\n",
    "X_train=torch.from_numpy(X_train).float()\n",
    "X_test=torch.from_numpy(X_test).float()\n",
    "\n",
    "Y_train=torch.from_numpy(Y_train).float()\n",
    "Y_test=torch.from_numpy(Y_test).float()\n",
    "\n",
    "#print(X_train.shape)"
   ]
  },
  {
   "cell_type": "code",
   "execution_count": 25,
   "id": "2aac99d1",
   "metadata": {},
   "outputs": [
    {
     "name": "stdout",
     "output_type": "stream",
     "text": [
      "<class 'torch.Tensor'>\n"
     ]
    }
   ],
   "source": [
    "print(type(Y_train))"
   ]
  },
  {
   "cell_type": "markdown",
   "id": "6ad16d5e",
   "metadata": {},
   "source": [
    "### Neural Network "
   ]
  },
  {
   "cell_type": "code",
   "execution_count": 26,
   "id": "c152a71b",
   "metadata": {},
   "outputs": [],
   "source": [
    "#print(X_train,Y_train)\n",
    "\n",
    "class CFD_DSMC(nn.Module):\n",
    "    def __init__(self,layers):\n",
    "        super().__init__()\n",
    "        self.activation=nn.Tanh()\n",
    "        self.loss_function=nn.MSELoss(reduction=\"mean\")\n",
    "        self.linears=nn.ModuleList([nn.Linear(layers[i],layers[i+1])for i in range(len(layers)-1)])\n",
    "        self.iteration=0\n",
    "    \n",
    "        for i in range(len(layers)-1):\n",
    "            nn.init.xavier_normal_(self.linears[i].weight.data,gain=5/3)\n",
    "            nn.init.zeros_(self.linears[i].bias.data)\n",
    "        \n",
    "    def forward(self,X):\n",
    "        if torch.is_tensor(X)!=True:\n",
    "            X=torch.from_numpy(X)\n",
    "        a=X.float()\n",
    "        for i in range(len(layers)-2):\n",
    "            z=self.linears[i](a)\n",
    "            a=self.activation(z)\n",
    "        a=self.linears[-1](a)\n",
    "        return a\n",
    "    def loss(self,X,Y):\n",
    "        a=self.forward(X)\n",
    "        loss_val=self.loss_function(a,Y)\n",
    "        return loss_val\n",
    "    \n",
    "    def closure(self):\n",
    "        optimizer.zero_grad()\n",
    "\n",
    "        Total_loss=self.loss(X_train,Y_train)\n",
    "        Total_loss.backward()\n",
    "        \n",
    "        self.iteration+=1\n",
    "        if self.iteration%100==0:\n",
    "            print(Total_loss)\n",
    "        return Total_loss\n",
    "    def test(self,Test_data):\n",
    "        XY=self.forward(Test_data)\n",
    "        return XY"
   ]
  },
  {
   "cell_type": "markdown",
   "id": "bd3d423c",
   "metadata": {},
   "source": [
    "## Main Function"
   ]
  },
  {
   "cell_type": "code",
   "execution_count": 27,
   "id": "b621c5d7",
   "metadata": {},
   "outputs": [
    {
     "name": "stdout",
     "output_type": "stream",
     "text": [
      "tensor(0.0044, grad_fn=<MseLossBackward0>)\n",
      "tensor(0.0041, grad_fn=<MseLossBackward0>)\n",
      "tensor(0.0039, grad_fn=<MseLossBackward0>)\n",
      "tensor(0.0037, grad_fn=<MseLossBackward0>)\n",
      "tensor(0.0035, grad_fn=<MseLossBackward0>)\n",
      "tensor(0.0035, grad_fn=<MseLossBackward0>)\n",
      "tensor(0.0034, grad_fn=<MseLossBackward0>)\n",
      "tensor(0.0032, grad_fn=<MseLossBackward0>)\n",
      "tensor(0.0029, grad_fn=<MseLossBackward0>)\n",
      "tensor(0.0011, grad_fn=<MseLossBackward0>)\n",
      "tensor(0.0007, grad_fn=<MseLossBackward0>)\n",
      "tensor(0.0006, grad_fn=<MseLossBackward0>)\n",
      "8.104247808456421\n"
     ]
    }
   ],
   "source": [
    "layers=np.array([2,8,8,8,8,2])\n",
    "yo=CFD_DSMC(layers)\n",
    "params=list(yo.parameters())\n",
    "optimizer=torch.optim.LBFGS(yo.parameters(),lr=0.1,max_iter=50000,tolerance_grad=1e-15,max_eval=None,tolerance_change=1e-9,history_size=1000,line_search_fn=\"strong_wolfe\")\n",
    "\n",
    "\n",
    "start_time=time.time()\n",
    "optimizer.step(yo.closure)\n",
    "Total_time=time.time()-start_time\n",
    "print(Total_time)"
   ]
  },
  {
   "cell_type": "markdown",
   "id": "812c1b9e",
   "metadata": {},
   "source": [
    "### Predicting Test Results"
   ]
  },
  {
   "cell_type": "code",
   "execution_count": 28,
   "id": "50432783",
   "metadata": {},
   "outputs": [],
   "source": [
    "pred_val=yo.test(X_test)\n",
    "\n",
    "\n",
    "#X_test.shape\n",
    "Y_test=(Y_test).detach().numpy()"
   ]
  },
  {
   "cell_type": "code",
   "execution_count": 29,
   "id": "3c2b3d8f",
   "metadata": {},
   "outputs": [
    {
     "name": "stdout",
     "output_type": "stream",
     "text": [
      "torch.Size([51, 2])\n",
      "<class 'numpy.ndarray'>\n",
      "<class 'numpy.ndarray'>\n"
     ]
    }
   ],
   "source": [
    "print(pred_val.shape)\n",
    "pred_val=(pred_val).detach().numpy()\n",
    "X_pred_val=pred_val[:,[0]]\n",
    "print(type(X_pred_val))\n",
    "Y_pred_val=pred_val[:,[1]]\n",
    "print(type(Y_pred_val))"
   ]
  },
  {
   "cell_type": "markdown",
   "id": "4e6efc0f",
   "metadata": {},
   "source": [
    "### Plot"
   ]
  },
  {
   "cell_type": "code",
   "execution_count": 30,
   "id": "3b6999b3",
   "metadata": {},
   "outputs": [
    {
     "data": {
      "image/png": "[encoded data removed]",
      "text/plain": [
       "<Figure size 432x288 with 1 Axes>"
      ]
     },
     "metadata": {
      "needs_background": "light"
     },
     "output_type": "display_data"
    }
   ],
   "source": [
    "plt.scatter(X_pred_val,Y_pred_val,color=\"b\",label=\"predicted DSMC Values\")\n",
    "plt.scatter(X_test[:,[0]],X_test[:,[1]],color=\"y\",label=\"Test CFD DATA\")\n",
    "plt.scatter(Y_test[:,[0]],Y_test[:,[1]],color=\"r\",label=\"True DSMC Values\")\n",
    "\n",
    "plt.legend(fontsize=\"14\")\n",
    "plt.show()"
   ]
  }
 ],
 "metadata": {
  "kernelspec": {
   "display_name": "Python 3 (ipykernel)",
   "language": "python",
   "name": "python3"
  },
  "language_info": {
   "codemirror_mode": {
    "name": "ipython",
    "version": 3
   },
   "file_extension": ".py",
   "mimetype": "text/x-python",
   "name": "python",
   "nbconvert_exporter": "python",
   "pygments_lexer": "ipython3",
   "version": "3.9.7"
  }
 },
 "nbformat": 4,
 "nbformat_minor": 5
}
